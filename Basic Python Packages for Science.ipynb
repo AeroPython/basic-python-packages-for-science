{
 "cells": [
  {
   "cell_type": "markdown",
   "metadata": {},
   "source": [
    "![PyData_logo](./static/pydata-logo-madrid-2016.png)"
   ]
  },
  {
   "cell_type": "markdown",
   "metadata": {},
   "source": [
    "# Remove Before Flight\n",
    "## Analyzing Flight Safety Data with Python"
   ]
  },
  {
   "cell_type": "markdown",
   "metadata": {},
   "source": [
    "###### Siro Moreno Martín\n",
    "###### Alejandro Sáez Mollejo"
   ]
  },
  {
   "cell_type": "markdown",
   "metadata": {},
   "source": [
    "### 0. Introduction"
   ]
  },
  {
   "cell_type": "markdown",
   "metadata": {},
   "source": [
    "#### Python in the Scientific environment  "
   ]
  },
  {
   "cell_type": "markdown",
   "metadata": {},
   "source": [
    "##### Principal Python Packages for scientific purposes "
   ]
  },
  {
   "cell_type": "markdown",
   "metadata": {},
   "source": [
    "##### Anaconda & conda"
   ]
  },
  {
   "cell_type": "markdown",
   "metadata": {},
   "source": [
    "![conda](./static/conda.png)"
   ]
  },
  {
   "cell_type": "markdown",
   "metadata": {},
   "source": [
    "http://conda.pydata.org/docs/intro.html\n",
    "\n",
    "Conda is a package manager application that quickly installs, runs, and updates packages and their dependencies. The conda command is the primary interface for managing installations of various packages. It can query and search the package index and current installation, create new environments, and install and update packages into existing conda environments. "
   ]
  },
  {
   "cell_type": "code",
   "execution_count": 1,
   "metadata": {
    "collapsed": false
   },
   "outputs": [
    {
     "data": {
      "text/html": [
       "<iframe src=\"http://conda.pydata.org/docs/_downloads/conda-cheatsheet.pdf\" width=\"700\" height=\"400\"></iframe>"
      ],
      "text/plain": [
       "<IPython.core.display.HTML object>"
      ]
     },
     "execution_count": 1,
     "metadata": {},
     "output_type": "execute_result"
    }
   ],
   "source": [
    "from IPython.display import HTML\n",
    "HTML('<iframe src=\"http://conda.pydata.org/docs/_downloads/conda-cheatsheet.pdf\" width=\"700\" height=\"400\"></iframe>')"
   ]
  },
  {
   "cell_type": "markdown",
   "metadata": {},
   "source": [
    "##### Main objectives of this workshop "
   ]
  },
  {
   "cell_type": "markdown",
   "metadata": {},
   "source": [
    "* Provide you with a first insight into the principal Python tools & libraries used in Science:\n",
    "    - conda.\n",
    "    - Jupyter Notebook.\n",
    "    - NumPy, matplotlib, SciPy\n",
    "* Provide you with the basic skills to face basic tasks such as:\n",
    "    - \n",
    "* Show other common libraries:\n",
    "    - Pandas, scikit-learn (some talks & workshops will focus on these packages)\n",
    "    - SymPy\n",
    "    - Numba ¿?"
   ]
  },
  {
   "cell_type": "markdown",
   "metadata": {},
   "source": [
    "### 1. Jupyter Notebook"
   ]
  },
  {
   "cell_type": "markdown",
   "metadata": {},
   "source": [
    "![jupyter](./static/jupyter-logo.png)"
   ]
  },
  {
   "cell_type": "markdown",
   "metadata": {},
   "source": [
    "### 2. Using arrays: NumPy "
   ]
  },
  {
   "cell_type": "markdown",
   "metadata": {},
   "source": [
    "![numpy-logo](./static/numpy.png)"
   ]
  },
  {
   "cell_type": "markdown",
   "metadata": {},
   "source": [
    "#### ndarray object "
   ]
  },
  {
   "cell_type": "markdown",
   "metadata": {},
   "source": [
    "| index     | 0     | 1     | 2     | 3     | ...   | n-1   | n  |\n",
    "| ---------- | :---: | :---: | :---: | :---: | :---: | :---: | :---: |\n",
    "| value      | 2.1   | 3.6   | 7.8   | 1.5   | ...   | 5.4   | 6.3 |"
   ]
  },
  {
   "cell_type": "markdown",
   "metadata": {},
   "source": [
    "* N-dimensional data structure.\n",
    "* Homogeneously typed.\n",
    "* Efficient!\n",
    "\n",
    "A universal function (or ufunc for short) is a function that operates on ndarrays. It is a “vectorized function\"."
   ]
  },
  {
   "cell_type": "code",
   "execution_count": 2,
   "metadata": {
    "collapsed": true
   },
   "outputs": [],
   "source": [
    "import numpy as np"
   ]
  },
  {
   "cell_type": "code",
   "execution_count": 3,
   "metadata": {
    "collapsed": false
   },
   "outputs": [
    {
     "name": "stdout",
     "output_type": "stream",
     "text": [
      "100 loops, best of 3: 1.82 ms per loop\n"
     ]
    }
   ],
   "source": [
    "my_list  = list(range(0,100000))\n",
    "%timeit sum(my_list)"
   ]
  },
  {
   "cell_type": "code",
   "execution_count": 4,
   "metadata": {
    "collapsed": false
   },
   "outputs": [
    {
     "name": "stdout",
     "output_type": "stream",
     "text": [
      "The slowest run took 14.38 times longer than the fastest. This could mean that an intermediate result is being cached.\n",
      "10000 loops, best of 3: 95.7 µs per loop\n"
     ]
    }
   ],
   "source": [
    "array = np.arange(0, 100000)\n",
    "%timeit np.sum(array)"
   ]
  },
  {
   "cell_type": "markdown",
   "metadata": {},
   "source": [
    "#### Array creation"
   ]
  },
  {
   "cell_type": "code",
   "execution_count": 5,
   "metadata": {
    "collapsed": false
   },
   "outputs": [
    {
     "data": {
      "text/plain": [
       "array([1, 2, 3, 4])"
      ]
     },
     "execution_count": 5,
     "metadata": {},
     "output_type": "execute_result"
    }
   ],
   "source": [
    "one_dim_array = np.array([1, 2, 3, 4])\n",
    "one_dim_array"
   ]
  },
  {
   "cell_type": "code",
   "execution_count": 6,
   "metadata": {
    "collapsed": false
   },
   "outputs": [
    {
     "data": {
      "text/plain": [
       "array([[1, 2, 3],\n",
       "       [4, 5, 6],\n",
       "       [7, 8, 9]])"
      ]
     },
     "execution_count": 6,
     "metadata": {},
     "output_type": "execute_result"
    }
   ],
   "source": [
    "two_dim_array = np.array([[1, 2, 3],\n",
    "                                           [4, 5, 6],\n",
    "                                           [7, 8, 9]])\n",
    "two_dim_array"
   ]
  },
  {
   "cell_type": "code",
   "execution_count": 7,
   "metadata": {
    "collapsed": false
   },
   "outputs": [
    {
     "data": {
      "text/plain": [
       "9"
      ]
     },
     "execution_count": 7,
     "metadata": {},
     "output_type": "execute_result"
    }
   ],
   "source": [
    "two_dim_array.size"
   ]
  },
  {
   "cell_type": "code",
   "execution_count": 8,
   "metadata": {
    "collapsed": false
   },
   "outputs": [
    {
     "data": {
      "text/plain": [
       "(3, 3)"
      ]
     },
     "execution_count": 8,
     "metadata": {},
     "output_type": "execute_result"
    }
   ],
   "source": [
    "two_dim_array.shape"
   ]
  },
  {
   "cell_type": "code",
   "execution_count": 9,
   "metadata": {
    "collapsed": false
   },
   "outputs": [
    {
     "data": {
      "text/plain": [
       "dtype('int64')"
      ]
     },
     "execution_count": 9,
     "metadata": {},
     "output_type": "execute_result"
    }
   ],
   "source": [
    "two_dim_array.dtype"
   ]
  },
  {
   "cell_type": "code",
   "execution_count": 10,
   "metadata": {
    "collapsed": false
   },
   "outputs": [],
   "source": [
    "zeros_arr = np.zeros([3, 3])\n",
    "ones_arr = np.ones([10])\n",
    "eye_arr = np.eye(5)"
   ]
  },
  {
   "cell_type": "code",
   "execution_count": 11,
   "metadata": {
    "collapsed": false
   },
   "outputs": [
    {
     "data": {
      "text/plain": [
       "array([ 0,  1,  2,  3,  4,  5,  6,  7,  8,  9, 10, 11, 12, 13, 14])"
      ]
     },
     "execution_count": 11,
     "metadata": {},
     "output_type": "execute_result"
    }
   ],
   "source": [
    "range_arr = np.arange(15)\n",
    "range_arr"
   ]
  },
  {
   "cell_type": "code",
   "execution_count": 12,
   "metadata": {
    "collapsed": false
   },
   "outputs": [
    {
     "data": {
      "text/plain": [
       "array([[ 0,  1,  2,  3,  4],\n",
       "       [ 5,  6,  7,  8,  9],\n",
       "       [10, 11, 12, 13, 14]])"
      ]
     },
     "execution_count": 12,
     "metadata": {},
     "output_type": "execute_result"
    }
   ],
   "source": [
    "range_arr.reshape([3, 5])"
   ]
  },
  {
   "cell_type": "code",
   "execution_count": 13,
   "metadata": {
    "collapsed": false
   },
   "outputs": [
    {
     "data": {
      "text/plain": [
       "array([  0. ,   0.5,   1. ,   1.5,   2. ,   2.5,   3. ,   3.5,   4. ,\n",
       "         4.5,   5. ,   5.5,   6. ,   6.5,   7. ,   7.5,   8. ,   8.5,\n",
       "         9. ,   9.5,  10. ])"
      ]
     },
     "execution_count": 13,
     "metadata": {},
     "output_type": "execute_result"
    }
   ],
   "source": [
    "np.linspace(0, 10, 21)"
   ]
  },
  {
   "cell_type": "markdown",
   "metadata": {},
   "source": [
    "#### Basic slicing "
   ]
  },
  {
   "cell_type": "code",
   "execution_count": 14,
   "metadata": {
    "collapsed": false
   },
   "outputs": [
    {
     "data": {
      "text/plain": [
       "1"
      ]
     },
     "execution_count": 14,
     "metadata": {},
     "output_type": "execute_result"
    }
   ],
   "source": [
    "one_dim_array[0]"
   ]
  },
  {
   "cell_type": "code",
   "execution_count": 15,
   "metadata": {
    "collapsed": false
   },
   "outputs": [
    {
     "data": {
      "text/plain": [
       "9"
      ]
     },
     "execution_count": 15,
     "metadata": {},
     "output_type": "execute_result"
    }
   ],
   "source": [
    "two_dim_array[-1, -1]"
   ]
  },
  {
   "cell_type": "markdown",
   "metadata": {},
   "source": [
    "`[start:stop:step]`"
   ]
  },
  {
   "cell_type": "code",
   "execution_count": 16,
   "metadata": {
    "collapsed": false
   },
   "outputs": [
    {
     "data": {
      "text/plain": [
       "array([ 0,  2,  4,  6,  8, 10, 12, 14, 16, 18, 20, 22, 24, 26, 28, 30, 32,\n",
       "       34, 36, 38, 40, 42, 44, 46, 48, 50, 52, 54, 56, 58, 60, 62, 64, 66,\n",
       "       68, 70, 72, 74, 76, 78, 80, 82, 84, 86, 88, 90, 92, 94, 96, 98])"
      ]
     },
     "execution_count": 16,
     "metadata": {},
     "output_type": "execute_result"
    }
   ],
   "source": [
    "my_arr = np.arange(100)\n",
    "my_arr[0::2]"
   ]
  },
  {
   "cell_type": "code",
   "execution_count": 17,
   "metadata": {
    "collapsed": false
   },
   "outputs": [
    {
     "data": {
      "text/plain": [
       "array([[0, 1, 0, 1, 0, 1, 0, 1],\n",
       "       [1, 0, 1, 0, 1, 0, 1, 0],\n",
       "       [0, 1, 0, 1, 0, 1, 0, 1],\n",
       "       [1, 0, 1, 0, 1, 0, 1, 0],\n",
       "       [0, 1, 0, 1, 0, 1, 0, 1],\n",
       "       [1, 0, 1, 0, 1, 0, 1, 0],\n",
       "       [0, 1, 0, 1, 0, 1, 0, 1],\n",
       "       [1, 0, 1, 0, 1, 0, 1, 0]])"
      ]
     },
     "execution_count": 17,
     "metadata": {},
     "output_type": "execute_result"
    }
   ],
   "source": [
    "chess_board = np.zeros([8, 8], dtype=int)\n",
    "\n",
    "chess_board[0::2, 1::2] = 1\n",
    "chess_board[1::2, 0::2] = 1\n",
    "\n",
    "chess_board"
   ]
  },
  {
   "cell_type": "code",
   "execution_count": 18,
   "metadata": {
    "collapsed": true
   },
   "outputs": [],
   "source": [
    "%matplotlib inline\n",
    "import matplotlib.pyplot as plt"
   ]
  },
  {
   "cell_type": "code",
   "execution_count": 19,
   "metadata": {
    "collapsed": false
   },
   "outputs": [
    {
     "data": {
      "text/plain": [
       "<matplotlib.image.AxesImage at 0x7f8bc9731c50>"
      ]
     },
     "execution_count": 19,
     "metadata": {},
     "output_type": "execute_result"
    },
    {
     "data": {
      "image/png": "[encoded data removed]",
      "text/plain": [
       "<matplotlib.figure.Figure at 0x7f8bd438fd68>"
      ]
     },
     "metadata": {},
     "output_type": "display_data"
    }
   ],
   "source": [
    "plt.matshow(chess_board, cmap=plt.cm.gray)"
   ]
  },
  {
   "cell_type": "markdown",
   "metadata": {},
   "source": [
    "#### Operations & linalg "
   ]
  },
  {
   "cell_type": "code",
   "execution_count": 20,
   "metadata": {
    "collapsed": false
   },
   "outputs": [],
   "source": [
    "x = np.linspace(1, 10)\n",
    "y = np.sin(x)"
   ]
  },
  {
   "cell_type": "code",
   "execution_count": 21,
   "metadata": {
    "collapsed": false
   },
   "outputs": [
    {
     "data": {
      "text/plain": [
       "[<matplotlib.lines.Line2D at 0x7f8bc91e2f98>]"
      ]
     },
     "execution_count": 21,
     "metadata": {},
     "output_type": "execute_result"
    },
    {
     "data": {
      "image/png": "[encoded data removed]",
      "text/plain": [
       "<matplotlib.figure.Figure at 0x7f8bc9203f60>"
      ]
     },
     "metadata": {},
     "output_type": "display_data"
    }
   ],
   "source": [
    "plt.plot(x, y)"
   ]
  },
  {
   "cell_type": "code",
   "execution_count": 22,
   "metadata": {
    "collapsed": false
   },
   "outputs": [],
   "source": [
    "y_2 = (1 + np.log(x)) ** 2"
   ]
  },
  {
   "cell_type": "code",
   "execution_count": 23,
   "metadata": {
    "collapsed": false
   },
   "outputs": [
    {
     "data": {
      "text/plain": [
       "[<matplotlib.lines.Line2D at 0x7f8bc914ca90>]"
      ]
     },
     "execution_count": 23,
     "metadata": {},
     "output_type": "execute_result"
    },
    {
     "data": {
      "image/png": "[encoded data removed]",
      "text/plain": [
       "<matplotlib.figure.Figure at 0x7f8bc9180be0>"
      ]
     },
     "metadata": {},
     "output_type": "display_data"
    }
   ],
   "source": [
    "plt.plot(x, y_2, 'r-*')"
   ]
  },
  {
   "cell_type": "code",
   "execution_count": 24,
   "metadata": {
    "collapsed": false
   },
   "outputs": [
    {
     "data": {
      "text/plain": [
       "array([[10, 40, 77],\n",
       "       [25, 25, 68],\n",
       "       [33, 16, 91]])"
      ]
     },
     "execution_count": 24,
     "metadata": {},
     "output_type": "execute_result"
    }
   ],
   "source": [
    "two_dim_array = np.array([[10, 25, 33],\n",
    "                                           [40, 25, 16],\n",
    "                                           [77, 68, 91]])\n",
    "\n",
    "two_dim_array.T"
   ]
  },
  {
   "cell_type": "code",
   "execution_count": 25,
   "metadata": {
    "collapsed": false
   },
   "outputs": [
    {
     "data": {
      "text/plain": [
       "array([[ 3641,  3119,  3733],\n",
       "       [ 2632,  2713,  3176],\n",
       "       [10497,  9813, 11910]])"
      ]
     },
     "execution_count": 25,
     "metadata": {},
     "output_type": "execute_result"
    }
   ],
   "source": [
    "two_dim_array @ two_dim_array"
   ]
  },
  {
   "cell_type": "code",
   "execution_count": 26,
   "metadata": {
    "collapsed": false
   },
   "outputs": [
    {
     "data": {
      "text/plain": [
       "array([ 240.4,  250.8,  783.1])"
      ]
     },
     "execution_count": 26,
     "metadata": {},
     "output_type": "execute_result"
    }
   ],
   "source": [
    "one_dim_array = np.array([2.5, 3.6, 3.8])\n",
    "\n",
    "two_dim_array @ one_dim_array"
   ]
  },
  {
   "cell_type": "code",
   "execution_count": 27,
   "metadata": {
    "collapsed": false
   },
   "outputs": [
    {
     "data": {
      "text/plain": [
       "array([[-0.05372256,  0.00140303,  0.01923512],\n",
       "       [ 0.10898393,  0.07381761, -0.05250057],\n",
       "       [-0.03598099, -0.05634759,  0.03394433]])"
      ]
     },
     "execution_count": 27,
     "metadata": {},
     "output_type": "execute_result"
    }
   ],
   "source": [
    "np.linalg.inv(two_dim_array)"
   ]
  },
  {
   "cell_type": "code",
   "execution_count": 28,
   "metadata": {
    "collapsed": false
   },
   "outputs": [
    {
     "data": {
      "text/plain": [
       "(array([ 133.6946629,  -17.266221 ,    9.5715581]),\n",
       " array([[-0.29580975, -0.74274264,  0.0661375 ],\n",
       "        [-0.24477775,  0.65983255, -0.79576005],\n",
       "        [-0.92335283,  0.1138173 ,  0.60198985]]))"
      ]
     },
     "execution_count": 28,
     "metadata": {},
     "output_type": "execute_result"
    }
   ],
   "source": [
    "np.linalg.eig(two_dim_array)"
   ]
  },
  {
   "cell_type": "markdown",
   "metadata": {},
   "source": [
    "#### Air quality data "
   ]
  },
  {
   "cell_type": "code",
   "execution_count": 29,
   "metadata": {
    "collapsed": false
   },
   "outputs": [
    {
     "data": {
      "text/html": [
       "<iframe src=\"http://www.mambiente.munimadrid.es/sica/scripts/index.php\"             width=\"700\" height=\"400\"></iframe>"
      ],
      "text/plain": [
       "<IPython.core.display.HTML object>"
      ]
     },
     "execution_count": 29,
     "metadata": {},
     "output_type": "execute_result"
    }
   ],
   "source": [
    "from IPython.display import HTML\n",
    "HTML('<iframe src=\"http://www.mambiente.munimadrid.es/sica/scripts/index.php\" \\\n",
    "            width=\"700\" height=\"400\"></iframe>')"
   ]
  },
  {
   "cell_type": "markdown",
   "metadata": {},
   "source": [
    "##### Loading the data "
   ]
  },
  {
   "cell_type": "code",
   "execution_count": 30,
   "metadata": {
    "collapsed": false
   },
   "outputs": [
    {
     "name": "stdout",
     "output_type": "stream",
     "text": [
      "Estación: Barrio del Pilar;;;;\r\n",
      "Fecha;Hora;CO;NO2;O3\r\n",
      ";;mg/m³;µg/m³;µg/m³\r\n",
      "22/03/2016;01:00;0.2;14;73\r\n",
      "22/03/2016;02:00;0.2;10;77\r\n",
      "22/03/2016;03:00;0.2;9;75\r\n",
      "22/03/2016;04:00;0.2;3;81\r\n",
      "22/03/2016;05:00;0.2;3;81\r\n",
      "22/03/2016;06:00;0.2;6;79\r\n",
      "22/03/2016;07:00;0.2;24;59\r\n"
     ]
    }
   ],
   "source": [
    "# Linux command \n",
    "!head ./data/barrio_del_pilar-20160322.csv\n",
    "\n",
    "# Windows\n",
    "# !gc log.txt | select -first 10 # head"
   ]
  },
  {
   "cell_type": "code",
   "execution_count": 31,
   "metadata": {
    "collapsed": false
   },
   "outputs": [
    {
     "data": {
      "text/plain": [
       "array([[   0.2,   14. ,   73. ],\n",
       "       [   0.2,   10. ,   77. ],\n",
       "       [   0.2,    9. ,   75. ],\n",
       "       [   0.2,    3. ,   81. ],\n",
       "       [   0.2,    3. ,   81. ],\n",
       "       [   0.2,    6. ,   79. ],\n",
       "       [   0.2,   24. ,   59. ],\n",
       "       [   0.3,   48. ,   37. ],\n",
       "       [   0.3,   40. ,   43. ],\n",
       "       [   0.3,   41. ,   44. ],\n",
       "       [   0.3,   20. ,   68. ],\n",
       "       [   0.3,   17. ,   74. ],\n",
       "       [   0.2,   14. ,   84. ],\n",
       "       [   0.3,   16. ,   88. ],\n",
       "       [   0.3,   15. ,   94. ],\n",
       "       [   0.4,   29. ,   81. ],\n",
       "       [   0.3,   23. ,   82. ],\n",
       "       [   0.3,   26. ,   81. ],\n",
       "       [   0.3,   30. ,   75. ],\n",
       "       [   0.4,   57. ,   39. ],\n",
       "       [   0.4,   73. ,   17. ],\n",
       "       [   0.4,   51. ,   42. ],\n",
       "       [   0.4,   72. ,   16. ],\n",
       "       [   0.4,   61. ,   28. ],\n",
       "       [   0.3,   25. ,   62. ],\n",
       "       [   0.3,   21. ,   64. ],\n",
       "       [   0.3,   40. ,   39. ],\n",
       "       [   0.4,   52. ,   19. ],\n",
       "       [   0.4,   47. ,    8. ],\n",
       "       [   0.4,   42. ,    8. ],\n",
       "       [   0.5,   68. ,    8. ],\n",
       "       [   0.6,   71. ,    9. ],\n",
       "       [   0.9,   76. ,   10. ],\n",
       "       [   0.7,   63. ,   29. ],\n",
       "       [   0.3,   27. ,   66. ],\n",
       "       [   0.3,   13. ,   88. ],\n",
       "       [   0.2,   10. ,   92. ],\n",
       "       [   0.3,   10. ,   98. ],\n",
       "       [   0.3,   11. ,   99. ],\n",
       "       [   0.3,   12. ,   99. ],\n",
       "       [   0.2,   11. ,   98. ],\n",
       "       [   0.2,    8. ,  101. ],\n",
       "       [   0.2,   13. ,   92. ],\n",
       "       [   0.2,   23. ,   79. ],\n",
       "       [   0.5,   40. ,   56. ],\n",
       "       [   0.6,   49. ,   43. ],\n",
       "       [   0.5,   66. ,   25. ],\n",
       "       [   0.4,   47. ,   44. ],\n",
       "       [   0.3,   18. ,   76. ],\n",
       "       [   0.3,   25. ,   64. ],\n",
       "       [   0.3,   16. ,   77. ],\n",
       "       [   0.3,   16. ,   59. ],\n",
       "       [   0.3,   34. ,   31. ],\n",
       "       [   0.3,   27. ,   33. ],\n",
       "       [   0.3,   44. ,   17. ],\n",
       "       [   0.4,   45. ,    9. ],\n",
       "       [   0.5,   52. ,   22. ],\n",
       "       [   0.4,   37. ,   53. ],\n",
       "       [   0.3,   21. ,   73. ],\n",
       "       [   0.3,   20. ,   76. ],\n",
       "       [   0.3,   24. ,   76. ],\n",
       "       [   0.4,   38. ,   71. ],\n",
       "       [   0.3,   32. ,   78. ],\n",
       "       [   0.3,   21. ,   89. ],\n",
       "       [   0.2,   10. ,  105. ],\n",
       "       [   0.3,   15. ,  102. ],\n",
       "       [   0.3,   21. ,   93. ],\n",
       "       [   0.3,   45. ,   63. ],\n",
       "       [   0.4,   59. ,   47. ],\n",
       "       [   0.4,   59. ,   44. ],\n",
       "       [   0.7,   99. ,    9. ],\n",
       "       [   0.6,   88. ,    9. ],\n",
       "       [   0.8,   93. ,    9. ],\n",
       "       [   0.9,   89. ,    9. ],\n",
       "       [   0.8,   84. ,    8. ],\n",
       "       [   0.5,   64. ,   10. ],\n",
       "       [   0.4,   58. ,   11. ],\n",
       "       [   0.5,   53. ,    9. ],\n",
       "       [   0.4,   41. ,    8. ],\n",
       "       [   0.5,   43. ,    9. ],\n",
       "       [   0.5,   45. ,   13. ],\n",
       "       [   0.6,   51. ,   25. ],\n",
       "       [   0.5,   44. ,   40. ],\n",
       "       [   0.4,   36. ,   59. ],\n",
       "       [   0.4,   36. ,   68. ],\n",
       "       [   0.3,   26. ,   84. ],\n",
       "       [   0.3,   16. ,   98. ],\n",
       "       [   0.3,   17. ,   97. ],\n",
       "       [   0.3,   24. ,   89. ],\n",
       "       [   0.3,   17. ,   99. ],\n",
       "       [   0.3,   12. ,  100. ],\n",
       "       [   0.3,   42. ,   61. ],\n",
       "       [   0.4,   52. ,   44. ],\n",
       "       [   0.5,   54. ,   39. ],\n",
       "       [   0.5,   60. ,   28. ],\n",
       "       [   0.6,   73. ,   13. ],\n",
       "       [   0.5,   58. ,   23. ],\n",
       "       [   0.4,   58. ,   16. ],\n",
       "       [   0.5,   61. ,   10. ],\n",
       "       [   0.5,   59. ,    9. ],\n",
       "       [   0.4,   50. ,    9. ],\n",
       "       [   0.3,   31. ,   10. ],\n",
       "       [   0.4,   36. ,    9. ],\n",
       "       [   0.6,   45. ,    9. ],\n",
       "       [   0.5,   43. ,   18. ],\n",
       "       [   0.5,   37. ,   24. ],\n",
       "       [   0.5,   40. ,   38. ],\n",
       "       [   0.4,   26. ,   59. ],\n",
       "       [   0.3,   14. ,   67. ],\n",
       "       [   0.3,   12. ,   64. ],\n",
       "       [   0.3,   13. ,   62. ],\n",
       "       [   0.2,   10. ,   63. ],\n",
       "       [   0.2,    7. ,   58. ],\n",
       "       [   0.2,    8. ,   53. ],\n",
       "       [   0.2,   11. ,   51. ],\n",
       "       [   0.3,   16. ,   47. ],\n",
       "       [   0.2,   19. ,   42. ],\n",
       "       [   0.3,   22. ,   38. ],\n",
       "       [   0.3,   23. ,   36. ],\n",
       "       [   0.3,   16. ,   43. ],\n",
       "       [   0.2,    9. ,   49. ],\n",
       "       [   0.2,    6. ,   48. ],\n",
       "       [   nan,    nan,    nan],\n",
       "       [   0.2,    4. ,   64. ],\n",
       "       [   0.2,    3. ,   89. ],\n",
       "       [   0.2,    4. ,   90. ],\n",
       "       [   0.2,    3. ,   92. ],\n",
       "       [   0.2,    6. ,   89. ],\n",
       "       [   0.3,   11. ,   83. ],\n",
       "       [   0.3,    9. ,   87. ],\n",
       "       [   0.3,    8. ,   84. ],\n",
       "       [   0.3,   10. ,   82. ],\n",
       "       [   0.3,   10. ,   80. ],\n",
       "       [   0.3,   12. ,   80. ],\n",
       "       [   0.3,   12. ,   81. ],\n",
       "       [   0.3,    8. ,   84. ],\n",
       "       [   0.3,   10. ,   85. ],\n",
       "       [   0.2,   10. ,   85. ],\n",
       "       [   0.2,   14. ,   82. ],\n",
       "       [   0.3,   18. ,   72. ],\n",
       "       [   0.3,   28. ,   60. ],\n",
       "       [   0.3,   30. ,   55. ],\n",
       "       [   0.3,   21. ,   61. ],\n",
       "       [   0.3,   16. ,   63. ],\n",
       "       [   0.3,   12. ,   65. ],\n",
       "       [   0.2,    9. ,   67. ],\n",
       "       [   0.2,    5. ,   70. ],\n",
       "       [   0.2,    5. ,   69. ],\n",
       "       [   0.2,    6. ,   65. ],\n",
       "       [   0.2,    7. ,   63. ],\n",
       "       [   0.3,   16. ,   55. ],\n",
       "       [   0.3,   30. ,   45. ],\n",
       "       [   0.3,   38. ,   39. ],\n",
       "       [   0.3,   37. ,   41. ],\n",
       "       [   0.3,   29. ,   53. ],\n",
       "       [   0.3,   27. ,   53. ],\n",
       "       [   0.3,   27. ,   49. ],\n",
       "       [   0.3,   23. ,   54. ],\n",
       "       [   0.3,   22. ,   57. ],\n",
       "       [   0.3,   19. ,   61. ],\n",
       "       [   0.3,   17. ,   63. ],\n",
       "       [   0.3,   22. ,   59. ],\n",
       "       [   0.3,   27. ,   53. ],\n",
       "       [   0.3,   29. ,   50. ],\n",
       "       [   0.3,   34. ,   44. ],\n",
       "       [   0.3,   33. ,   45. ],\n",
       "       [   0.3,   26. ,   50. ],\n",
       "       [   0.3,   19. ,   56. ],\n",
       "       [   0.2,   11. ,   63. ],\n",
       "       [   0.2,    8. ,   63. ],\n",
       "       [   0.2,    9. ,   58. ],\n",
       "       [   0.2,    6. ,   63. ],\n",
       "       [   0.2,    5. ,   66. ],\n",
       "       [   0.2,    7. ,   62. ],\n",
       "       [   0.3,   18. ,   53. ],\n",
       "       [   0.4,   38. ,   37. ],\n",
       "       [   0.4,   49. ,   28. ],\n",
       "       [   0.4,   45. ,   35. ],\n",
       "       [   0.3,   34. ,   47. ],\n",
       "       [   0.3,   24. ,   62. ],\n",
       "       [   0.3,   24. ,   68. ],\n",
       "       [   0.3,   28. ,   68. ],\n",
       "       [   0.3,   23. ,   78. ],\n",
       "       [   0.3,   21. ,   82. ],\n",
       "       [   0.3,   17. ,   87. ],\n",
       "       [   0.3,   23. ,   80. ],\n",
       "       [   0.3,   28. ,   75. ],\n",
       "       [   0.3,   29. ,   71. ],\n",
       "       [   0.3,   46. ,   50. ],\n",
       "       [   0.4,   66. ,   27. ],\n",
       "       [   0.3,   51. ,   38. ],\n",
       "       [   0.3,   42. ,   46. ]])"
      ]
     },
     "execution_count": 31,
     "metadata": {},
     "output_type": "execute_result"
    }
   ],
   "source": [
    "data1 = np.genfromtxt('./data/barrio_del_pilar-20160322.csv', skip_header=3, delimiter=';', usecols=(2,3,4))\n",
    "data1"
   ]
  },
  {
   "cell_type": "markdown",
   "metadata": {},
   "source": [
    "##### Dealing with missing values "
   ]
  },
  {
   "cell_type": "code",
   "execution_count": 32,
   "metadata": {
    "collapsed": false
   },
   "outputs": [
    {
     "data": {
      "text/plain": [
       "array([ nan,  nan,  nan])"
      ]
     },
     "execution_count": 32,
     "metadata": {},
     "output_type": "execute_result"
    }
   ],
   "source": [
    "np.mean(data1, axis=0)"
   ]
  },
  {
   "cell_type": "code",
   "execution_count": 33,
   "metadata": {
    "collapsed": false,
    "scrolled": true
   },
   "outputs": [
    {
     "data": {
      "text/plain": [
       "array([  0.33717277,  29.79581152,  55.47643979])"
      ]
     },
     "execution_count": 33,
     "metadata": {},
     "output_type": "execute_result"
    }
   ],
   "source": [
    "np.nanmean(data1, axis=0)"
   ]
  },
  {
   "cell_type": "code",
   "execution_count": 34,
   "metadata": {
    "collapsed": false
   },
   "outputs": [
    {
     "data": {
      "text/plain": [
       "masked_array(data = [0.3371727748691094 29.79581151832461 55.47643979057592],\n",
       "             mask = [False False False],\n",
       "       fill_value = 1e+20)"
      ]
     },
     "execution_count": 34,
     "metadata": {},
     "output_type": "execute_result"
    }
   ],
   "source": [
    "data1 = np.ma.masked_invalid(data1)\n",
    "np.mean(data1, axis=0)"
   ]
  },
  {
   "cell_type": "code",
   "execution_count": 35,
   "metadata": {
    "collapsed": true
   },
   "outputs": [],
   "source": [
    "data2 = np.genfromtxt('./data/barrio_del_pilar-20151222.csv', skip_header=3, delimiter=';', usecols=(2,3,4))\n",
    "data2 = np.ma.masked_invalid(data2)"
   ]
  },
  {
   "cell_type": "markdown",
   "metadata": {},
   "source": [
    "##### Plotting the data "
   ]
  },
  {
   "cell_type": "markdown",
   "metadata": {},
   "source": [
    "** Maximum values ** from: http://www.mambiente.munimadrid.es/opencms/export/sites/default/calaire/Anexos/valores_limite_1.pdf"
   ]
  },
  {
   "cell_type": "markdown",
   "metadata": {},
   "source": [
    "* NO2\n",
    "    - Media anual: 40 µg/m3\n",
    "    - **Media horaria: 200 µg/m3 **"
   ]
  },
  {
   "cell_type": "code",
   "execution_count": 36,
   "metadata": {
    "collapsed": false
   },
   "outputs": [
    {
     "data": {
      "text/plain": [
       "(0, 220)"
      ]
     },
     "execution_count": 36,
     "metadata": {},
     "output_type": "execute_result"
    },
    {
     "data": {
      "image/png": "[encoded data removed]",
      "text/plain": [
       "<matplotlib.figure.Figure at 0x7f8bc915d6d8>"
      ]
     },
     "metadata": {},
     "output_type": "display_data"
    }
   ],
   "source": [
    "plt.plot(data1[:, 1], label='2016')\n",
    "plt.plot(data2[:, 1], label='2015')\n",
    "\n",
    "plt.legend()\n",
    "\n",
    "plt.hlines(200, 0, 200, linestyles='--')\n",
    "plt.ylim(0, 220)"
   ]
  },
  {
   "cell_type": "code",
   "execution_count": 37,
   "metadata": {
    "collapsed": false
   },
   "outputs": [
    {
     "data": {
      "text/html": [
       "<iframe src=\"http://ccaa.elpais.com/ccaa/2015/12/24/madrid/1450960217_181674.html\" width=\"700\" height=\"400\"></iframe>"
      ],
      "text/plain": [
       "<IPython.core.display.HTML object>"
      ]
     },
     "execution_count": 37,
     "metadata": {},
     "output_type": "execute_result"
    }
   ],
   "source": [
    "from IPython.display import HTML\n",
    "HTML('<iframe src=\"http://ccaa.elpais.com/ccaa/2015/12/24/madrid/1450960217_181674.html\" width=\"700\" height=\"400\"></iframe>')"
   ]
  },
  {
   "cell_type": "markdown",
   "metadata": {},
   "source": [
    "* CO \n",
    "    - **Máxima diaria de las medias móviles octohorarias: 10 mg/m³**"
   ]
  },
  {
   "cell_type": "code",
   "execution_count": 38,
   "metadata": {
    "collapsed": true
   },
   "outputs": [],
   "source": [
    "# http://docs.scipy.org/doc/numpy-1.10.0/reference/generated/numpy.convolve.html\n",
    "def moving_average(x, N=8):\n",
    "    return np.convolve(x, np.ones(N)/N, mode='same')"
   ]
  },
  {
   "cell_type": "code",
   "execution_count": 39,
   "metadata": {
    "collapsed": false
   },
   "outputs": [
    {
     "data": {
      "text/plain": [
       "<matplotlib.legend.Legend at 0x7f8bc87fa278>"
      ]
     },
     "execution_count": 39,
     "metadata": {},
     "output_type": "execute_result"
    },
    {
     "data": {
      "image/png": "[encoded data removed]",
      "text/plain": [
       "<matplotlib.figure.Figure at 0x7f8bc91097f0>"
      ]
     },
     "metadata": {},
     "output_type": "display_data"
    }
   ],
   "source": [
    "plt.plot(moving_average(data1[:, 0]), label='2016')\n",
    "#plt.plot(data1[:, 0])\n",
    "\n",
    "plt.plot(moving_average(data2[:, 0]), label='2015')\n",
    "#plt.plot(data2[:, 0])\n",
    "\n",
    "plt.hlines(10, 0, 250, linestyles='--')\n",
    "plt.ylim(0, 11)\n",
    "\n",
    "plt.legend()"
   ]
  },
  {
   "cell_type": "markdown",
   "metadata": {},
   "source": [
    "* O3\n",
    "    - **Máxima diaria de las medias móviles octohorarias: 120 µg/m3**\n",
    "    - Umbral de información. 180 µg/m3\n",
    "    - Media horaria. Umbral de alerta. 240 µg/m3"
   ]
  },
  {
   "cell_type": "code",
   "execution_count": 40,
   "metadata": {
    "collapsed": false
   },
   "outputs": [
    {
     "name": "stderr",
     "output_type": "stream",
     "text": [
      "/miniconda/envs/pydata-basic-python/lib/python3.5/site-packages/matplotlib/axes/_axes.py:519: UserWarning: No labelled objects found. Use label='...' kwarg on individual plots.\n",
      "  warnings.warn(\"No labelled objects found. \"\n"
     ]
    },
    {
     "data": {
      "image/png": "[encoded data removed]",
      "text/plain": [
       "<matplotlib.figure.Figure at 0x7f8bc88454e0>"
      ]
     },
     "metadata": {},
     "output_type": "display_data"
    }
   ],
   "source": [
    "plt.plot(moving_average(data1[:, 2]))\n",
    "#plt.plot(data1[:, 2])\n",
    "\n",
    "plt.plot(moving_average(data2[:, 2]))\n",
    "#plt.plot(data2[:, 2])\n",
    "\n",
    "plt.hlines(180, 0, 250, linestyles='--')\n",
    "plt.ylim(0, 190)\n",
    "\n",
    "plt.legend()"
   ]
  },
  {
   "cell_type": "markdown",
   "metadata": {},
   "source": [
    "### 4. Scientific functions: SciPy"
   ]
  },
  {
   "cell_type": "markdown",
   "metadata": {},
   "source": [
    "![matplotlib](./static/scipy_logo.png)"
   ]
  },
  {
   "cell_type": "markdown",
   "metadata": {},
   "source": [
    "```\n",
    "scipy.linalg: ATLAS LAPACK and BLAS libraries\n",
    "\n",
    "scipy.stats: distributions, statistical functions...\n",
    "\n",
    "scipy.integrate: integration of functions and ODEs\n",
    "\n",
    "scipy.optimization: local and global optimization, fitting, root finding...\n",
    "\n",
    "scipy.interpolate: interpolation, splines...\n",
    "\n",
    "scipy.fftpack: Fourier trasnforms\n",
    "\n",
    "scipy.signal, scipy.special, scipy.io\n",
    "```"
   ]
  },
  {
   "cell_type": "code",
   "execution_count": null,
   "metadata": {
    "collapsed": true
   },
   "outputs": [],
   "source": []
  },
  {
   "cell_type": "markdown",
   "metadata": {},
   "source": [
    "### 3. Graphical Representation: matplotlib"
   ]
  },
  {
   "cell_type": "markdown",
   "metadata": {},
   "source": [
    "![matplotlib](./static/matplotlib.png)"
   ]
  },
  {
   "cell_type": "code",
   "execution_count": 41,
   "metadata": {
    "collapsed": true
   },
   "outputs": [],
   "source": [
    "%matplotlib notebook\n",
    "import matplotlib.pyplot as plt"
   ]
  },
  {
   "cell_type": "markdown",
   "metadata": {
    "collapsed": true
   },
   "source": [
    "#### Other options... \n",
    "\n"
   ]
  },
  {
   "cell_type": "markdown",
   "metadata": {},
   "source": [
    "### 5. Other packages"
   ]
  },
  {
   "cell_type": "markdown",
   "metadata": {},
   "source": [
    "#### Symbolic calculations with SymPy "
   ]
  },
  {
   "cell_type": "markdown",
   "metadata": {},
   "source": [
    "![sympy](./static/sympy.png)"
   ]
  },
  {
   "cell_type": "markdown",
   "metadata": {},
   "source": [
    "#### Data Analysis with pandas "
   ]
  },
  {
   "cell_type": "markdown",
   "metadata": {},
   "source": [
    "![pandas](./static/pandas_logo.png)"
   ]
  },
  {
   "cell_type": "markdown",
   "metadata": {},
   "source": [
    "#### Machine Learning with scikit-learn "
   ]
  },
  {
   "cell_type": "markdown",
   "metadata": {},
   "source": [
    "![scikit-learn](./static/scikit-learn-logo.png)"
   ]
  },
  {
   "cell_type": "markdown",
   "metadata": {},
   "source": [
    "##### A world of possibilities... "
   ]
  },
  {
   "cell_type": "markdown",
   "metadata": {},
   "source": [
    "![scikit-learn](./static/cheatsheet-scikit-learn.png)"
   ]
  },
  {
   "cell_type": "markdown",
   "metadata": {},
   "source": [
    "### Conclusions "
   ]
  },
  {
   "cell_type": "raw",
   "metadata": {},
   "source": [
    "*  \n",
    "* \n",
    "* "
   ]
  },
  {
   "cell_type": "markdown",
   "metadata": {},
   "source": [
    "# Thanks for yor attention! "
   ]
  },
  {
   "cell_type": "markdown",
   "metadata": {},
   "source": [
    "![PyData_logo](./static/pydata-logo-madrid-2016.png)"
   ]
  },
  {
   "cell_type": "markdown",
   "metadata": {},
   "source": [
    "## Any Questions?"
   ]
  },
  {
   "cell_type": "markdown",
   "metadata": {},
   "source": [
    "\n",
    "---\n"
   ]
  },
  {
   "cell_type": "code",
   "execution_count": null,
   "metadata": {
    "collapsed": true
   },
   "outputs": [],
   "source": []
  },
  {
   "cell_type": "code",
   "execution_count": 42,
   "metadata": {
    "collapsed": false
   },
   "outputs": [
    {
     "data": {
      "text/html": [
       "<link href='http://fonts.googleapis.com/css?family=Source+Sans+Pro|Josefin+Sans:400,700,400italic|Ubuntu+Condensed' rel='stylesheet' type='text/css'>\n",
       "\n",
       "\n",
       "<style>\n",
       "\n",
       "#notebook_panel { /* main background */\n",
       "    background: #f7f7f7;\n",
       "}\n",
       "\n",
       "div.cell { /* set cell width */\n",
       "    width: 900px;\n",
       "}\n",
       "\n",
       "div #notebook { /* centre the content */\n",
       "    background: #fff; /* white background for content */\n",
       "    width: 950px;\n",
       "    margin: auto;\n",
       "    padding-left: 0em;\n",
       "}\n",
       "\n",
       "#notebook li { /* More space between bullet points */\n",
       "    margin-top:0.7em;\n",
       "}\n",
       "\n",
       "/* draw border around running cells */\n",
       "div.cell.border-box-sizing.code_cell.running { \n",
       "    border: 1px solid #111;\n",
       "}\n",
       "\n",
       "/* Put a solid color box around each cell and its output, visually linking them*/\n",
       "div.cell.code_cell {\n",
       "    font-family: 'Source Sans Pro', sans-serif;\n",
       "    background-color: rgb(256,256,256);\n",
       "    font-size: 110%;\n",
       "    border-radius: 0px; \n",
       "    padding: 0.5em;\n",
       "    margin-left:1em;\n",
       "    margin-top: 1em;\n",
       "}\n",
       "\n",
       "div.text_cell_render{\n",
       "    font-family: 'Josefin Sans', serif;\n",
       "    line-height: 145%;\n",
       "    font-size: 125%;\n",
       "    font-weight: 500;\n",
       "    width:750px;\n",
       "    margin-left:auto;\n",
       "    margin-right:auto;\n",
       "}\n",
       "\n",
       "\n",
       "/* Formatting for header cells */\n",
       ".text_cell_render h1, .text_cell_render h2, .text_cell_render h3,\n",
       ".text_cell_render h4, .text_cell_render h5 {\n",
       "    font-family: 'Ubuntu Condensed', sans-serif;\n",
       "}\n",
       "\n",
       ".text_cell_render h1 {    /*Use this for Title*/\n",
       "    font-weight: 500;\n",
       "    font-size: 38pt;\n",
       "    line-height: 100%;\n",
       "    color: #EE9141;\n",
       "    text-align: center;\n",
       "    margin-bottom: 0.1em;\n",
       "    margin-top: 0.3em;\n",
       "    display: block;\n",
       "}\n",
       "\n",
       ".text_cell_render h2 {    /*Use this for Subtitle*/\n",
       "    margin-top:16px;\n",
       "    font-size: 32pt;\n",
       "    font-weight: 500;\n",
       "    margin-bottom: 0.1em;\n",
       "    margin-top: 0.3em;\n",
       "    text-align: center;\n",
       "    font-style: regular;\n",
       "    color: #459EBA;\n",
       "}\t\n",
       "\n",
       ".text_cell_render h3 {   /*Sections*/ \n",
       "    font-size: 30pt;\n",
       "    font-weight: 300;\n",
       "    text-align: left;\n",
       "    margin-bottom: 0.1em;\n",
       "    margin-top: 0.3em;\n",
       "    font-style: regular;\n",
       "    color:  #252525;\n",
       "}\n",
       "\n",
       ".text_cell_render h4 {    /*Subsections*/\n",
       "    font-size: 28pt;\n",
       "    font-weight: 200;\n",
       "    text-align: left;\n",
       "    margin-bottom: 0.1em;\n",
       "    margin-top: 0.3em;\n",
       "    font-style: regular;\n",
       "    color:  #377e95;\n",
       "}\n",
       "\n",
       ".text_cell_render h5 {    /*Subsubsections*/\n",
       "    font-size: 20pt;\n",
       "    font-weight: 300;\n",
       "    font-style: italic;\n",
       "    margin-bottom: .1em;\n",
       "    margin-top: 0.8em;\n",
       "    display: block;\n",
       "    color:  #e77615;\n",
       "}\n",
       "\n",
       ".text_cell_render h6 {    /*Author*/\n",
       "    font-family: 'Ubuntu Condensed', sans-serif;\n",
       "    font-weight: 100;\n",
       "    font-size: 14pt;\n",
       "    line-height: 100%;\n",
       "    color: #252525;\n",
       "    text-align: right;\n",
       "    margin-bottom: 1px;\n",
       "    margin-top: 3px;\n",
       "}\n",
       "\n",
       ".CodeMirror{\n",
       "        font-family: 'Duru Sans', sans-serif;\n",
       "        font-size: 100%;\n",
       "}\n",
       "\n",
       "</style>\n",
       "<script>\n",
       "    MathJax.Hub.Config({\n",
       "                        TeX: {\n",
       "                           extensions: [\"AMSmath.js\"],\n",
       "                           equationNumbers: { autoNumber: \"AMS\", useLabelIds: true}\n",
       "                           },\n",
       "                tex2jax: {\n",
       "                    inlineMath: [ ['$','$'], [\"\\\\(\",\"\\\\)\"] ],\n",
       "                    displayMath: [ ['$$','$$'], [\"\\\\[\",\"\\\\]\"] ]\n",
       "                },\n",
       "                displayAlign: 'center', // Change this to 'center' to center equations.\n",
       "                \"HTML-CSS\": {\n",
       "                    styles: {'.MathJax_Display': {\"margin\": 4}}\n",
       "                }\n",
       "        });\n",
       "</script>\n"
      ],
      "text/plain": [
       "<IPython.core.display.HTML object>"
      ]
     },
     "execution_count": 42,
     "metadata": {},
     "output_type": "execute_result"
    }
   ],
   "source": [
    "# Notebook style\n",
    "from IPython.core.display import HTML\n",
    "css_file = './static/style.css'\n",
    "HTML(open(css_file, \"r\").read())"
   ]
  }
 ],
 "metadata": {
  "kernelspec": {
   "display_name": "Python 3",
   "language": "python",
   "name": "python3"
  },
  "language_info": {
   "codemirror_mode": {
    "name": "ipython",
    "version": 3
   },
   "file_extension": ".py",
   "mimetype": "text/x-python",
   "name": "python",
   "nbconvert_exporter": "python",
   "pygments_lexer": "ipython3",
   "version": "3.5.1"
  }
 },
 "nbformat": 4,
 "nbformat_minor": 0
}
